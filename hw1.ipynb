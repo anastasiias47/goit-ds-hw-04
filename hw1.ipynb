{
 "cells": [
  {
   "cell_type": "code",
   "execution_count": 29,
   "metadata": {},
   "outputs": [],
   "source": [
    "import numpy as np\n",
    "import random"
   ]
  },
  {
   "cell_type": "code",
   "execution_count": 5,
   "metadata": {},
   "outputs": [
    {
     "name": "stdout",
     "output_type": "stream",
     "text": [
      "[ 1  2  3  4  5  6  7  8  9 10]\n"
     ]
    }
   ],
   "source": [
    "array_1 = np.array([i for i in range(1,11)], dtype = int)\n",
    "print(array_1)"
   ]
  },
  {
   "cell_type": "code",
   "execution_count": 4,
   "metadata": {},
   "outputs": [
    {
     "name": "stdout",
     "output_type": "stream",
     "text": [
      "[[0. 0. 0.]\n",
      " [0. 0. 0.]\n",
      " [0. 0. 0.]]\n"
     ]
    }
   ],
   "source": [
    "array_2 = np.zeros((3,3))\n",
    "print(array_2)"
   ]
  },
  {
   "cell_type": "code",
   "execution_count": 16,
   "metadata": {},
   "outputs": [
    {
     "name": "stdout",
     "output_type": "stream",
     "text": [
      "[[10  9  9]\n",
      " [ 2  9  7]\n",
      " [ 8  1  2]]\n"
     ]
    }
   ],
   "source": [
    "array_3 = np.array([[random.randint(1,10) for _ in range(5)] for _ in range(5)])\n",
    "print(array_3)"
   ]
  },
  {
   "cell_type": "code",
   "execution_count": 21,
   "metadata": {},
   "outputs": [
    {
     "name": "stdout",
     "output_type": "stream",
     "text": [
      "[[0.79937704 0.39739755 0.65104414 0.85197311]\n",
      " [0.47951414 0.94630062 0.33644139 0.66028104]\n",
      " [0.8183857  0.76159761 0.81749367 0.80086631]\n",
      " [0.60562886 0.17390322 0.81712258 0.51975122]]\n"
     ]
    }
   ],
   "source": [
    "array_4 = np.array([[random.uniform(0,1) for _ in range(4)] for _ in range(4)])\n",
    "print(array_4)"
   ]
  },
  {
   "cell_type": "code",
   "execution_count": 25,
   "metadata": {},
   "outputs": [
    {
     "name": "stdout",
     "output_type": "stream",
     "text": [
      "[7 2 1 3 5]\n",
      "[10  3  9 10  5]\n",
      "[17  5 10 13 10]\n",
      "[-3 -1 -8 -7  0]\n",
      "[70  6  9 30 25]\n"
     ]
    }
   ],
   "source": [
    "array_5_1 = np.array([random.randint(1,10) for _ in range(5)])\n",
    "array_5_2 = np.array([random.randint(1,10) for _ in range(5)])\n",
    "sum_arr_5 = array_5_1 + array_5_2\n",
    "diff_arr_5 = array_5_1 - array_5_2\n",
    "mult_arr_5 = array_5_1 * array_5_2\n",
    "print(array_5_1)\n",
    "print(array_5_2)\n",
    "print(sum_arr_5)\n",
    "print(diff_arr_5)\n",
    "print(mult_arr_5)\n"
   ]
  },
  {
   "cell_type": "code",
   "execution_count": 26,
   "metadata": {},
   "outputs": [
    {
     "name": "stdout",
     "output_type": "stream",
     "text": [
      "91\n"
     ]
    }
   ],
   "source": [
    "array_6_1 = np.array([i for i in range(1,7)], dtype = int)\n",
    "array_6_2 = np.array([i for i in range(1,7)], dtype = int)\n",
    "scalar_mult = np.dot(array_6_1,array_6_2)\n",
    "print(scalar_mult)"
   ]
  },
  {
   "cell_type": "code",
   "execution_count": 30,
   "metadata": {},
   "outputs": [
    {
     "name": "stdout",
     "output_type": "stream",
     "text": [
      "[[36 12 48]\n",
      " [54 18 72]]\n"
     ]
    }
   ],
   "source": [
    "array_7_1 = np.array([[random.randint(1,10) for _ in range(2)] for _ in range(2)])\n",
    "array_7_2 = np.array([[random.randint(1,10) for _ in range(3)] for _ in range(2)])\n",
    "array_mult = np.dot(array_7_1,array_7_2 )\n",
    "print(array_mult)"
   ]
  },
  {
   "cell_type": "code",
   "execution_count": 31,
   "metadata": {},
   "outputs": [
    {
     "name": "stdout",
     "output_type": "stream",
     "text": [
      "[[ 0.28767123 -0.02739726 -0.43835616]\n",
      " [-0.23287671  0.26027397  0.16438356]\n",
      " [ 0.16438356 -0.30136986  0.17808219]]\n"
     ]
    }
   ],
   "source": [
    "array_8_1 = np.array([[random.randint(1,10) for _ in range(3)] for _ in range(3)])\n",
    "array_inv = np.linalg.inv(array_8_1)\n",
    "print(array_inv)"
   ]
  },
  {
   "cell_type": "code",
   "execution_count": 41,
   "metadata": {},
   "outputs": [
    {
     "name": "stdout",
     "output_type": "stream",
     "text": [
      "[[0.70411757 0.99810861 0.71322582 0.46894909]\n",
      " [0.90312932 0.65029337 0.31884276 0.21175335]\n",
      " [0.5473332  0.36223154 0.62151648 0.12802421]\n",
      " [0.47902368 0.79128407 0.6425913  0.98408983]]\n",
      "[[0.70411757 0.90312932 0.5473332  0.47902368]\n",
      " [0.99810861 0.65029337 0.36223154 0.79128407]\n",
      " [0.71322582 0.31884276 0.62151648 0.6425913 ]\n",
      " [0.46894909 0.21175335 0.12802421 0.98408983]]\n"
     ]
    }
   ],
   "source": [
    "array_9_1 = np.array([[random.uniform(0,1) for _ in range(4)] for _ in range(4)])\n",
    "array_trans = np.transpose(array_9_1)\n",
    "print(array_9_1)\n",
    "print(array_trans)\n"
   ]
  },
  {
   "cell_type": "code",
   "execution_count": 44,
   "metadata": {},
   "outputs": [
    {
     "name": "stdout",
     "output_type": "stream",
     "text": [
      "[214 144  96]\n"
     ]
    }
   ],
   "source": [
    "array_10_1 = np.array([[random.randint(1,10) for _ in range(4)] for _ in range(3)])\n",
    "array_10_2 = np.array([random.randint(1,10) for _ in range(4)])\n",
    "array_mult = np.dot(array_10_1,array_10_2 )\n",
    "print(array_mult)"
   ]
  },
  {
   "cell_type": "code",
   "execution_count": 47,
   "metadata": {},
   "outputs": [
    {
     "name": "stdout",
     "output_type": "stream",
     "text": [
      "[0.41354435 0.81542185]\n"
     ]
    }
   ],
   "source": [
    "array_11_1 = np.array([[random.uniform(0,1) for _ in range(3)] for _ in range(2)])\n",
    "array_11_2 = np.array([random.uniform(0,1) for _ in range(3)])\n",
    "array_mult = np.dot(array_11_1,array_11_2 )\n",
    "print(array_mult)"
   ]
  },
  {
   "cell_type": "code",
   "execution_count": 51,
   "metadata": {},
   "outputs": [
    {
     "name": "stdout",
     "output_type": "stream",
     "text": [
      "[[4 4]\n",
      " [8 7]]\n",
      "[[4 9]\n",
      " [7 5]]\n",
      "[[16 36]\n",
      " [56 35]]\n"
     ]
    }
   ],
   "source": [
    "array_12_1 = np.array([[random.randint(1,10) for _ in range(2)] for _ in range(2)])\n",
    "array_12_2 = np.array([[random.randint(1,10) for _ in range(2)] for _ in range(2)])\n",
    "array_mult = array_12_1 * array_12_2\n",
    "print(array_12_1)\n",
    "print(array_12_2)\n",
    "print(array_mult)"
   ]
  },
  {
   "cell_type": "code",
   "execution_count": 6,
   "metadata": {},
   "outputs": [
    {
     "name": "stdout",
     "output_type": "stream",
     "text": [
      "[[2 2]\n",
      " [9 6]]\n",
      "[[4 8]\n",
      " [2 3]]\n",
      "[[12 22]\n",
      " [48 90]]\n"
     ]
    }
   ],
   "source": [
    "array_13_1 = np.array([[random.randint(1,10) for _ in range(2)] for _ in range(2)])\n",
    "array_13_2 = np.array([[random.randint(1,10) for _ in range(2)] for _ in range(2)])\n",
    "array_mult = np.dot(array_13_1,array_13_2)\n",
    "print(array_13_1)\n",
    "print(array_13_2)\n",
    "print(array_mult)"
   ]
  },
  {
   "cell_type": "code",
   "execution_count": 8,
   "metadata": {},
   "outputs": [
    {
     "name": "stdout",
     "output_type": "stream",
     "text": [
      "[[92 64 70 84 72]\n",
      " [17 85 25 72  5]\n",
      " [74  4 30 93 16]\n",
      " [39 42 52 80 73]\n",
      " [78 45 33 62 33]]\n",
      "1340\n"
     ]
    }
   ],
   "source": [
    "array_14_1 = np.array([[random.randint(1,100) for _ in range(5)] for _ in range(5)])\n",
    "array_sum_nums = array_14_1.sum()\n",
    "print(array_14_1)\n",
    "print(array_sum_nums)"
   ]
  },
  {
   "cell_type": "code",
   "execution_count": 12,
   "metadata": {},
   "outputs": [
    {
     "name": "stdout",
     "output_type": "stream",
     "text": [
      "[[10  6  8  8]\n",
      " [ 9  2  5  3]\n",
      " [ 8  9  2  5]\n",
      " [ 9  9  5  4]]\n",
      "[[4 1 9 1]\n",
      " [2 7 2 8]\n",
      " [5 8 7 6]\n",
      " [3 8 4 4]]\n",
      "[[ 6  5 -1  7]\n",
      " [ 7 -5  3 -5]\n",
      " [ 3  1 -5 -1]\n",
      " [ 6  1  1  0]]\n"
     ]
    }
   ],
   "source": [
    "array_15_1 = np.array([[random.randint(1,10) for _ in range(4)] for _ in range(4)])\n",
    "array_15_2 = np.array([[random.randint(1,10) for _ in range(4)] for _ in range(4)])\n",
    "array_dif = array_15_1 - array_15_2\n",
    "print(array_15_1)\n",
    "print(array_15_2)\n",
    "print(array_dif)"
   ]
  },
  {
   "cell_type": "code",
   "execution_count": 14,
   "metadata": {},
   "outputs": [
    {
     "name": "stdout",
     "output_type": "stream",
     "text": [
      "[[0.95392439 0.62121225 0.13962426]\n",
      " [0.55669701 0.03303308 0.92308829]\n",
      " [0.51297741 0.03868724 0.71856692]]\n",
      "[1.71476089 1.51281839 1.27023157]\n"
     ]
    }
   ],
   "source": [
    "array_16_1 = np.array([[random.uniform(0,1) for _ in range(3)] for _ in range(3)])\n",
    "array_sum_rows = np.array([sum(row) for row in array_16_1])\n",
    "print(array_16_1)\n",
    "print(array_sum_rows)"
   ]
  },
  {
   "cell_type": "code",
   "execution_count": 26,
   "metadata": {},
   "outputs": [
    {
     "name": "stdout",
     "output_type": "stream",
     "text": [
      "[[7 3 5]\n",
      " [7 1 5]\n",
      " [3 5 7]\n",
      " [2 7 9]]\n",
      "[[49  9 25]\n",
      " [49  1 25]\n",
      " [ 9 25 49]\n",
      " [ 4 49 81]]\n"
     ]
    }
   ],
   "source": [
    "array_17_1 = np.array([[random.randint(1,10) for _ in range(3)] for _ in range(4)], dtype = int)\n",
    "array_squared = np.array([[item**2 for item in row] for row in array_17_1])\n",
    "print(array_17_1)\n",
    "print(array_squared)"
   ]
  },
  {
   "cell_type": "code",
   "execution_count": 28,
   "metadata": {},
   "outputs": [
    {
     "name": "stdout",
     "output_type": "stream",
     "text": [
      "[2 3 1 4]\n",
      "[1.41421356 1.73205081 1.         2.        ]\n"
     ]
    }
   ],
   "source": [
    "array_18_1 = np.array([random.randint(1,10) for _ in range(4)])\n",
    "vector_sqrt = np.array([np.sqrt(item)for item in array_18_1])\n",
    "print(array_18_1)\n",
    "print(vector_sqrt)"
   ]
  },
  {
   "cell_type": "markdown",
   "metadata": {},
   "source": []
  }
 ],
 "metadata": {
  "kernelspec": {
   "display_name": "goit-ds-hw-04-TkAqdKbW",
   "language": "python",
   "name": "python3"
  },
  "language_info": {
   "codemirror_mode": {
    "name": "ipython",
    "version": 3
   },
   "file_extension": ".py",
   "mimetype": "text/x-python",
   "name": "python",
   "nbconvert_exporter": "python",
   "pygments_lexer": "ipython3",
   "version": "3.12.6"
  }
 },
 "nbformat": 4,
 "nbformat_minor": 2
}
